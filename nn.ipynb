{
 "cells": [
  {
   "cell_type": "markdown",
   "metadata": {},
   "source": [
    "# Neural Net implementation\n",
    "\n",
    "In this notebook, we re-implement the bi-gram model, however we model it from a neural network approach.\n",
    "\n",
    "The neural network approach is much more flexible than the bi-gram approach and allows us to expand easily to support multi-characters as input when making our next-char prediction\n",
    "\n",
    "### Steps:\n",
    "1. Prepare the dataset as before. We split the names into pairs of two\n",
    "\n",
    "2. "
   ]
  },
  {
   "cell_type": "code",
   "execution_count": null,
   "metadata": {},
   "outputs": [],
   "source": []
  }
 ],
 "metadata": {
  "language_info": {
   "name": "python"
  }
 },
 "nbformat": 4,
 "nbformat_minor": 2
}
