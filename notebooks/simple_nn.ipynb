{
 "cells": [
  {
   "cell_type": "markdown",
   "metadata": {},
   "source": [
    "# Neural Net implementation\n",
    "\n",
    "In this notebook, we re-implement the bi-gram model, however we model it from a neural network approach.\n",
    "\n",
    "The neural network approach is much more flexible than the bi-gram approach and allows us to expand easily to support multi-characters as input when making our next-char prediction\n",
    "\n",
    "### Steps:\n",
    "1. Prepare the dataset as before. We split the names into pairs of two (first_char, second_char)\n",
    "2. We build a NN model (a simple MLP) which takes as input x, runs it through an MLP and outputs a locally normalized output (i.e. the row using softmax (e^(w*x+b))sum(row)).\n",
    "3. To calculate the loss, we want to maximize the likelihood of yi from the output vector x. The closer this is, the lower the probability.\n",
    "\n",
    "#### Taking the softmax:\n",
    "As an output to the NN we want, just like the bigram model, a set of probabilities for the next likely char.\n",
    "We use the exponent function as it conveniently allows us to work in real numbers. (e^(w*x+b)). This is because when we normalize, we don't want negative probabilities (this does not exist), and negative is possible since the weights can be negative.\n",
    "\n",
    "Given input character x, our output is now a vector [...]\n",
    "x1 => (Neurons, one for each char of Alphabet)\n",
    "\n",
    "##### Side-note: Why don't we use the sigmoid function? It gives us a probability between 0-1.\n",
    "The sigmoid function (1/(1-e^(-w*x+b))) is good for classification, when multiple classes are possible in the same image (e.g. dog 0.8, wolf 0.7).\n",
    "However, with next-char prediction although there are multiple next-classes, the classes are mutually exclusive. I.e. if I predict a (then it is impossible for b to also be the next char).\n",
    "\n",
    "Sure - we could still use sigmoid and then normalize, and this would give us the probabilities right? Yes. However, sigmoid squashes the differences between possible outputs to between 0-1(which leads to saturation) whereas the exponential enhances the differences. Thus, sigmoid (after normalization) would have a smaller difference between different outputs e.g. a 0.9, b 0.8, whereas exponential would be larger e.g. a 0.8 b 0.4.\n",
    "\n",
    "#### Calculating the loss\n",
    "We want to compare the probability of x against the ground truth y.\n",
    "So given x1 -> [] -> output[...] we select the corresponding index for the gt y in the output vector (and this gives us e.g. 0.02)\n",
    "This is a low probability (lower than the mean, which is 1/27=0.037), thus we would want to backpropagate these to increase the weight\n",
    "\n",
    "What should the loss function look like? \n",
    "- e.g. (1 - 0.02)? => No, this would be a high loss and it would lead to every char having a 1.0 likelihood.\n",
    "- Using the log function, log(1) = 0, whereas log(0.02) = -1.6... This similarly increases the likelihood of 1-0.02 right? Why is this better?\n",
    "\n",
    "The log approach is better because it scales, whereas the 1-.. approach does not scale. This is because when there's a incredibly wrong prediction (e.g 1^e-20) then 1- would give e.g. 1 loss whereas the log approach would give 20 loss.\n",
    "\n",
    "Note: Taking the log of softmax (0 -> 1) leads to log(1) = 0 and log(0) -> -inf. Thus, we must take the negative log likelihood as by convention we minimize the loss.\n",
    "\n",
    "\n",
    "So, our simple NN will be as follows:\n",
    "\n",
    "Alphabet: 27 characters: a->z + '.'(beginning/end-of-sentence char)\n",
    "Training sample: e.g. Amina and sample[0] = (x=a, y=m)\n",
    "\n",
    "Training input: x=a\n",
    "Fully-connected perceptron with 27 neurons (from a->z+'.')\n",
    "Output vector: Softmax (e^x/sum(e^x))\n",
    "Loss: -log(output[y_i])\n",
    "\n",
    "Check:\n",
    "When the probability output[y_i] is low (e.g. 0.01) for y=m, the negative log loss comes out to 2. We can take the partial derivative of this w.r.t. each weight and update (note, here we have a batch size of 1)\n",
    "\n",
    "e.g. neuron_y_i.grad = dLoss/dneuron_y_i = d((e^w_i*x+b)/(sum(e^wx+b))))/d(w_i)"
   ]
  },
  {
   "cell_type": "code",
   "execution_count": 4,
   "metadata": {},
   "outputs": [
    {
     "name": "stdout",
     "output_type": "stream",
     "text": [
      "Requirement already satisfied: torch in /Users/anirudhh/Documents/Projects/GPT2/venv/lib/python3.11/site-packages (2.2.2)\n",
      "Requirement already satisfied: filelock in /Users/anirudhh/Documents/Projects/GPT2/venv/lib/python3.11/site-packages (from torch) (3.17.0)\n",
      "Requirement already satisfied: typing-extensions>=4.8.0 in /Users/anirudhh/Documents/Projects/GPT2/venv/lib/python3.11/site-packages (from torch) (4.12.2)\n",
      "Requirement already satisfied: sympy in /Users/anirudhh/Documents/Projects/GPT2/venv/lib/python3.11/site-packages (from torch) (1.13.3)\n",
      "Requirement already satisfied: networkx in /Users/anirudhh/Documents/Projects/GPT2/venv/lib/python3.11/site-packages (from torch) (3.4.2)\n",
      "Requirement already satisfied: jinja2 in /Users/anirudhh/Documents/Projects/GPT2/venv/lib/python3.11/site-packages (from torch) (3.1.5)\n",
      "Requirement already satisfied: fsspec in /Users/anirudhh/Documents/Projects/GPT2/venv/lib/python3.11/site-packages (from torch) (2024.9.0)\n",
      "Requirement already satisfied: MarkupSafe>=2.0 in /Users/anirudhh/Documents/Projects/GPT2/venv/lib/python3.11/site-packages (from jinja2->torch) (3.0.2)\n",
      "Requirement already satisfied: mpmath<1.4,>=1.1.0 in /Users/anirudhh/Documents/Projects/GPT2/venv/lib/python3.11/site-packages (from sympy->torch) (1.3.0)\n",
      "\n",
      "\u001b[1m[\u001b[0m\u001b[34;49mnotice\u001b[0m\u001b[1;39;49m]\u001b[0m\u001b[39;49m A new release of pip is available: \u001b[0m\u001b[31;49m24.0\u001b[0m\u001b[39;49m -> \u001b[0m\u001b[32;49m25.0\u001b[0m\n",
      "\u001b[1m[\u001b[0m\u001b[34;49mnotice\u001b[0m\u001b[1;39;49m]\u001b[0m\u001b[39;49m To update, run: \u001b[0m\u001b[32;49mpip install --upgrade pip\u001b[0m\n",
      "Requirement already satisfied: numpy<2 in /Users/anirudhh/Documents/Projects/GPT2/venv/lib/python3.11/site-packages (1.26.4)\n",
      "\n",
      "\u001b[1m[\u001b[0m\u001b[34;49mnotice\u001b[0m\u001b[1;39;49m]\u001b[0m\u001b[39;49m A new release of pip is available: \u001b[0m\u001b[31;49m24.0\u001b[0m\u001b[39;49m -> \u001b[0m\u001b[32;49m25.0\u001b[0m\n",
      "\u001b[1m[\u001b[0m\u001b[34;49mnotice\u001b[0m\u001b[1;39;49m]\u001b[0m\u001b[39;49m To update, run: \u001b[0m\u001b[32;49mpip install --upgrade pip\u001b[0m\n",
      "Requirement already satisfied: matplotlib in /Users/anirudhh/Documents/Projects/GPT2/venv/lib/python3.11/site-packages (3.10.0)\n",
      "Requirement already satisfied: contourpy>=1.0.1 in /Users/anirudhh/Documents/Projects/GPT2/venv/lib/python3.11/site-packages (from matplotlib) (1.3.1)\n",
      "Requirement already satisfied: cycler>=0.10 in /Users/anirudhh/Documents/Projects/GPT2/venv/lib/python3.11/site-packages (from matplotlib) (0.12.1)\n",
      "Requirement already satisfied: fonttools>=4.22.0 in /Users/anirudhh/Documents/Projects/GPT2/venv/lib/python3.11/site-packages (from matplotlib) (4.55.6)\n",
      "Requirement already satisfied: kiwisolver>=1.3.1 in /Users/anirudhh/Documents/Projects/GPT2/venv/lib/python3.11/site-packages (from matplotlib) (1.4.8)\n",
      "Requirement already satisfied: numpy>=1.23 in /Users/anirudhh/Documents/Projects/GPT2/venv/lib/python3.11/site-packages (from matplotlib) (1.26.4)\n",
      "Requirement already satisfied: packaging>=20.0 in /Users/anirudhh/Documents/Projects/GPT2/venv/lib/python3.11/site-packages (from matplotlib) (24.2)\n",
      "Requirement already satisfied: pillow>=8 in /Users/anirudhh/Documents/Projects/GPT2/venv/lib/python3.11/site-packages (from matplotlib) (11.1.0)\n",
      "Requirement already satisfied: pyparsing>=2.3.1 in /Users/anirudhh/Documents/Projects/GPT2/venv/lib/python3.11/site-packages (from matplotlib) (3.2.1)\n",
      "Requirement already satisfied: python-dateutil>=2.7 in /Users/anirudhh/Documents/Projects/GPT2/venv/lib/python3.11/site-packages (from matplotlib) (2.9.0.post0)\n",
      "Requirement already satisfied: six>=1.5 in /Users/anirudhh/Documents/Projects/GPT2/venv/lib/python3.11/site-packages (from python-dateutil>=2.7->matplotlib) (1.17.0)\n",
      "\n",
      "\u001b[1m[\u001b[0m\u001b[34;49mnotice\u001b[0m\u001b[1;39;49m]\u001b[0m\u001b[39;49m A new release of pip is available: \u001b[0m\u001b[31;49m24.0\u001b[0m\u001b[39;49m -> \u001b[0m\u001b[32;49m25.0\u001b[0m\n",
      "\u001b[1m[\u001b[0m\u001b[34;49mnotice\u001b[0m\u001b[1;39;49m]\u001b[0m\u001b[39;49m To update, run: \u001b[0m\u001b[32;49mpip install --upgrade pip\u001b[0m\n"
     ]
    }
   ],
   "source": [
    "# # Uncomment to install imports\n",
    "!pip install torch\n",
    "!pip install \"numpy<2\"\n",
    "!pip install matplotlib"
   ]
  },
  {
   "cell_type": "code",
   "execution_count": 5,
   "metadata": {},
   "outputs": [],
   "source": [
    "#Imports\n",
    "import torch\n",
    "import torch.nn.functional as F\n",
    "\n",
    "import numpy as np\n",
    "import matplotlib.pyplot as plt"
   ]
  },
  {
   "cell_type": "code",
   "execution_count": 8,
   "metadata": {},
   "outputs": [
    {
     "name": "stdout",
     "output_type": "stream",
     "text": [
      "Count: 32033, sample: ['emma', 'olivia', 'ava', 'isabella', 'sophia']...\n"
     ]
    }
   ],
   "source": [
    "# Load the dataset\n",
    "with open('../data/names.txt', 'r') as f:\n",
    "    names = f.read().splitlines()\n",
    "\n",
    "print(f\"Count: {len(names)}, sample: {names[:5]}...\")"
   ]
  },
  {
   "cell_type": "code",
   "execution_count": 4,
   "metadata": {},
   "outputs": [
    {
     "name": "stdout",
     "output_type": "stream",
     "text": [
      "Vocab: ['a', 'b', 'c', 'd', 'e', 'f', 'g', 'h', 'i', 'j', 'k', 'l', 'm', 'n', 'o', 'p', 'q', 'r', 's', 't', 'u', 'v', 'w', 'x', 'y', 'z']\n",
      "Length: 26\n",
      "String: hello\n",
      "Encoded: [8, 5, 12, 12, 15]\n",
      "Decoded: hello\n"
     ]
    }
   ],
   "source": [
    "# Write the functions to convert chars to/from integer representation\n",
    "vocab = sorted(list(set(\"\".join(names))))\n",
    "print(f\"Vocab: {vocab}\")\n",
    "print(f\"Length: {len(vocab)}\")\n",
    "\n",
    "stoi = {c: i+1 for i,c in enumerate(vocab)}\n",
    "stoi['.'] = 0\n",
    "itos = {i: s for s,i in stoi.items()}\n",
    "\n",
    "def encode(s):\n",
    "    return [stoi[c] for c in s.lower()]\n",
    "    \n",
    "def decode(ix):\n",
    "    return ''.join(itos[i] for i in ix)\n",
    "\n",
    "#Testing\n",
    "test = \"hello\"\n",
    "print(f\"String: {test}\")\n",
    "print(f\"Encoded: {encode(test)}\")\n",
    "print(f\"Decoded: {decode(encode(test))}\")"
   ]
  },
  {
   "cell_type": "code",
   "execution_count": 5,
   "metadata": {},
   "outputs": [],
   "source": [
    "# Prepare the data. We append start & end tokens '.', and creating sliding window of size 2 across the names.\n",
    "xs, ys = [], []\n",
    "\n",
    "# Build the dataset\n",
    "for n in names:\n",
    "    chs = ['.'] + list(n) + ['.']\n",
    "    for ch1, ch2 in zip(chs, chs[1:]):\n",
    "        ix1 = stoi[ch1]\n",
    "        ix2 = stoi[ch2]\n",
    "        \n",
    "        #Create a one-hot vector of size len(vocab)\n",
    "        xs.append(F.one_hot(torch.tensor(ix1), num_classes=len(vocab)+1).float())\n",
    "        ys.append(ix2)\n",
    "\n",
    "# Convert to tensors - better for operations\n",
    "xs = torch.stack(xs)\n",
    "ys = torch.tensor(ys)\n",
    "\n",
    "# Split into train/val/test\n",
    "n = len(xs)\n",
    "train_split = int(0.8 * n)\n",
    "valid_split = int(0.9 * n)\n",
    "\n",
    "X_train, Y_train = xs[:train_split], ys[:train_split]\n",
    "X_valid, Y_valid = xs[train_split:valid_split], ys[train_split:valid_split]\n",
    "X_test, Y_test = xs[valid_split:], ys[valid_split:]"
   ]
  },
  {
   "cell_type": "code",
   "execution_count": 6,
   "metadata": {},
   "outputs": [
    {
     "name": "stdout",
     "output_type": "stream",
     "text": [
      "torch.Size([182516, 27])\n",
      "tensor([[1., 0., 0., 0., 0., 0., 0., 0., 0., 0., 0., 0., 0., 0., 0., 0., 0., 0.,\n",
      "         0., 0., 0., 0., 0., 0., 0., 0., 0.],\n",
      "        [0., 0., 0., 0., 0., 1., 0., 0., 0., 0., 0., 0., 0., 0., 0., 0., 0., 0.,\n",
      "         0., 0., 0., 0., 0., 0., 0., 0., 0.],\n",
      "        [0., 0., 0., 0., 0., 0., 0., 0., 0., 0., 0., 0., 0., 1., 0., 0., 0., 0.,\n",
      "         0., 0., 0., 0., 0., 0., 0., 0., 0.],\n",
      "        [0., 0., 0., 0., 0., 0., 0., 0., 0., 0., 0., 0., 0., 1., 0., 0., 0., 0.,\n",
      "         0., 0., 0., 0., 0., 0., 0., 0., 0.],\n",
      "        [0., 1., 0., 0., 0., 0., 0., 0., 0., 0., 0., 0., 0., 0., 0., 0., 0., 0.,\n",
      "         0., 0., 0., 0., 0., 0., 0., 0., 0.]])\n",
      "tensor([ 5, 13, 13,  1,  0])\n"
     ]
    },
    {
     "data": {
      "image/png": "[encoded data removed]",
      "text/plain": [
       "<Figure size 1000x500 with 1 Axes>"
      ]
     },
     "metadata": {},
     "output_type": "display_data"
    }
   ],
   "source": [
    "print(X_train.shape)\n",
    "print(X_train[:5])\n",
    "print(Y_train[:5])\n",
    "\n",
    "plt.figure(figsize=(10,5))\n",
    "plt.imshow(X_train[:5])\n",
    "plt.title('First 50 one-hot vectors in training set')\n",
    "plt.xlabel('Vocabulary index')\n",
    "plt.ylabel('Sample index')\n",
    "plt.show()"
   ]
  },
  {
   "cell_type": "code",
   "execution_count": 7,
   "metadata": {},
   "outputs": [],
   "source": [
    "# Our data is now prepared.\n",
    "# We now want to pass through our params through an MLP of size vocab_size.\n",
    "# In this simple NN, we only have the output layer, of size (1,len(vocab)=26)\n",
    "import numpy as np\n",
    "\n",
    "#TODO: How does karpathy effectively implement the learning rate\n",
    "batch_size = 32\n",
    "lr = 1e-1\n",
    "\n",
    "#TODO: How to correctly initialize and sample\n",
    "params = torch.randn((len(vocab)+1, len(vocab)+1), dtype=torch.float32, requires_grad=True)\n",
    "losses = []"
   ]
  },
  {
   "cell_type": "code",
   "execution_count": 8,
   "metadata": {},
   "outputs": [
    {
     "data": {
      "text/plain": [
       "<matplotlib.image.AxesImage at 0x12aa3d550>"
      ]
     },
     "execution_count": 8,
     "metadata": {},
     "output_type": "execute_result"
    },
    {
     "data": {
      "image/png": "[encoded data removed]",
      "text/plain": [
       "<Figure size 640x480 with 1 Axes>"
      ]
     },
     "metadata": {},
     "output_type": "display_data"
    }
   ],
   "source": [
    "batch = X_train[:5]\n",
    "# Each batch is a one-hot encoded vector\n",
    "plt.imshow(batch)"
   ]
  },
  {
   "cell_type": "code",
   "execution_count": 9,
   "metadata": {},
   "outputs": [
    {
     "data": {
      "text/plain": [
       "torch.Size([32, 27])"
      ]
     },
     "execution_count": 9,
     "metadata": {},
     "output_type": "execute_result"
    }
   ],
   "source": [
    "W = torch.randn((27,27))\n",
    "\n",
    "batch.shape #5, 27\n",
    "W.shape #27,27\n",
    "\n",
    "(batch @ W).shape #5,27 * 27, 27 = 5,27 (for each vector of the batch, what is the next_char conditional probability distribution?)\n",
    "\n",
    "ix = torch.randint(0, len(X_train), (batch_size, ))\n",
    "ix\n",
    "batch = X_train[ix]\n",
    "batch.shape\n",
    "\n",
    "(batch @ W).shape"
   ]
  },
  {
   "cell_type": "code",
   "execution_count": 16,
   "metadata": {},
   "outputs": [
    {
     "name": "stdout",
     "output_type": "stream",
     "text": [
      "iter: 0, loss: 2.6272096633911133\n",
      "iter: 100, loss: 2.488914966583252\n",
      "iter: 200, loss: 2.555111885070801\n",
      "iter: 300, loss: 2.141125202178955\n",
      "iter: 400, loss: 2.591427803039551\n",
      "iter: 500, loss: 2.7488439083099365\n",
      "iter: 600, loss: 2.344137668609619\n",
      "iter: 700, loss: 2.4952564239501953\n",
      "iter: 800, loss: 2.081071376800537\n",
      "iter: 900, loss: 2.4654064178466797\n",
      "iter: 1000, loss: 2.570646286010742\n",
      "iter: 1100, loss: 2.92041277885437\n",
      "iter: 1200, loss: 2.429896593093872\n",
      "iter: 1300, loss: 3.0396132469177246\n",
      "iter: 1400, loss: 2.4168598651885986\n",
      "iter: 1500, loss: 2.233934164047241\n",
      "iter: 1600, loss: 2.524751901626587\n",
      "iter: 1700, loss: 2.460667848587036\n",
      "iter: 1800, loss: 2.3626933097839355\n",
      "iter: 1900, loss: 2.2759053707122803\n",
      "iter: 2000, loss: 2.5525712966918945\n",
      "iter: 2100, loss: 2.2858357429504395\n",
      "iter: 2200, loss: 2.716334104537964\n",
      "iter: 2300, loss: 2.4021549224853516\n",
      "iter: 2400, loss: 2.3184657096862793\n",
      "iter: 2500, loss: 2.7645134925842285\n",
      "iter: 2600, loss: 2.641517400741577\n",
      "iter: 2700, loss: 2.1895391941070557\n",
      "iter: 2800, loss: 2.207773208618164\n",
      "iter: 2900, loss: 2.7232377529144287\n",
      "iter: 3000, loss: 2.505439043045044\n",
      "iter: 3100, loss: 2.841858386993408\n",
      "iter: 3200, loss: 2.5544960498809814\n",
      "iter: 3300, loss: 2.504377841949463\n",
      "iter: 3400, loss: 2.358640193939209\n",
      "iter: 3500, loss: 2.5428216457366943\n",
      "iter: 3600, loss: 2.578784465789795\n",
      "iter: 3700, loss: 2.407626152038574\n",
      "iter: 3800, loss: 2.5142040252685547\n",
      "iter: 3900, loss: 2.5621049404144287\n",
      "iter: 4000, loss: 2.7417824268341064\n",
      "iter: 4100, loss: 2.277677297592163\n",
      "iter: 4200, loss: 2.4786531925201416\n",
      "iter: 4300, loss: 2.4662137031555176\n",
      "iter: 4400, loss: 2.3865628242492676\n",
      "iter: 4500, loss: 2.2815635204315186\n",
      "iter: 4600, loss: 2.5139522552490234\n",
      "iter: 4700, loss: 2.251582622528076\n",
      "iter: 4800, loss: 2.2379374504089355\n",
      "iter: 4900, loss: 2.2255377769470215\n",
      "iter: 5000, loss: 3.0074269771575928\n",
      "iter: 5100, loss: 2.5536999702453613\n",
      "iter: 5200, loss: 2.3220789432525635\n",
      "iter: 5300, loss: 2.603428840637207\n",
      "iter: 5400, loss: 2.357783794403076\n",
      "iter: 5500, loss: 2.4229042530059814\n",
      "iter: 5600, loss: 2.631493091583252\n",
      "iter: 5700, loss: 2.7276971340179443\n",
      "iter: 5800, loss: 2.585285186767578\n",
      "iter: 5900, loss: 2.578580617904663\n",
      "iter: 6000, loss: 2.4825611114501953\n",
      "iter: 6100, loss: 2.3292267322540283\n",
      "iter: 6200, loss: 2.2279975414276123\n",
      "iter: 6300, loss: 2.6655220985412598\n",
      "iter: 6400, loss: 2.391178846359253\n",
      "iter: 6500, loss: 2.619422197341919\n",
      "iter: 6600, loss: 2.652752161026001\n",
      "iter: 6700, loss: 2.724689245223999\n",
      "iter: 6800, loss: 2.7261176109313965\n",
      "iter: 6900, loss: 2.7347981929779053\n",
      "iter: 7000, loss: 2.604796886444092\n",
      "iter: 7100, loss: 2.4319827556610107\n",
      "iter: 7200, loss: 2.3948919773101807\n",
      "iter: 7300, loss: 2.474602699279785\n",
      "iter: 7400, loss: 2.4190616607666016\n",
      "iter: 7500, loss: 2.28643798828125\n",
      "iter: 7600, loss: 2.4069297313690186\n",
      "iter: 7700, loss: 2.2004737854003906\n",
      "iter: 7800, loss: 2.467696189880371\n",
      "iter: 7900, loss: 2.1849608421325684\n",
      "iter: 8000, loss: 2.3739213943481445\n",
      "iter: 8100, loss: 2.5392730236053467\n",
      "iter: 8200, loss: 2.5288071632385254\n",
      "iter: 8300, loss: 2.3671913146972656\n",
      "iter: 8400, loss: 2.235811233520508\n",
      "iter: 8500, loss: 2.727938175201416\n",
      "iter: 8600, loss: 2.403904914855957\n",
      "iter: 8700, loss: 2.428457736968994\n",
      "iter: 8800, loss: 2.8104124069213867\n",
      "iter: 8900, loss: 2.2560813426971436\n",
      "iter: 9000, loss: 2.2228446006774902\n",
      "iter: 9100, loss: 2.403611421585083\n",
      "iter: 9200, loss: 2.5100786685943604\n",
      "iter: 9300, loss: 2.4192631244659424\n",
      "iter: 9400, loss: 2.404283285140991\n",
      "iter: 9500, loss: 2.288196086883545\n",
      "iter: 9600, loss: 2.5574355125427246\n",
      "iter: 9700, loss: 2.7340800762176514\n",
      "iter: 9800, loss: 2.614535331726074\n",
      "iter: 9900, loss: 2.641453981399536\n",
      "train loss: 2.234607219696045\n"
     ]
    }
   ],
   "source": [
    "for i in range(10000):\n",
    "    loss = 0\n",
    "\n",
    "    # Randomly sample a batch of size batch_lenth from the training\n",
    "    ix = torch.randint(0, len(X_train), (batch_size, ))\n",
    "    batch = X_train[ix]\n",
    "    y = Y_train[ix]\n",
    "\n",
    "    # Forward pass\n",
    "    logits = batch @ params # matrix multiply by the params\n",
    "    counts = logits.exp() #exponentiate to get positive numbers (as we don't want negative probs)\n",
    "    probs = counts / counts.sum(1, keepdim=True) #We sum across dim=1 shape: (27,1) rather than dim=1 (1, 27) because we want avg across rows\n",
    "    \n",
    "    # Loss calculation\n",
    "    loss += -probs[torch.arange(batch_size), y].log().mean() + 0.01 * (params**2).mean() #We add a regularization\n",
    "    losses.append(loss.data)\n",
    "\n",
    "    loss.backward()\n",
    "    \n",
    "    #Optimizer step\n",
    "    params.data += -lr * params.grad #TODO: Practice determining the correct LR using karpathy's technique\n",
    "    params.grad = None #Set gradient to 0, it is more efficient than params.grad=0 (PyTorch optimizes behind-the-hood)\n",
    "\n",
    "    if i % 100 == 0:\n",
    "        print(f\"iter: {i}, loss: {loss}\")\n",
    "\n",
    "print(f\"train loss: {loss}\")"
   ]
  },
  {
   "cell_type": "code",
   "execution_count": 17,
   "metadata": {},
   "outputs": [
    {
     "data": {
      "image/png": "[encoded data removed]",
      "text/plain": [
       "<Figure size 1000x500 with 1 Axes>"
      ]
     },
     "metadata": {},
     "output_type": "display_data"
    }
   ],
   "source": [
    "#We average the loss per batch_size iteration (as there is a lot of instability within batch losses) to have a more stable view of the loss\n",
    "avg_losses = []\n",
    "\n",
    "avg_loss = 0\n",
    "\n",
    "for i, loss in enumerate(losses):\n",
    "    if i % batch_size == 0 and i != 0:\n",
    "        avg_losses.append(avg_loss/batch_size)\n",
    "        avg_loss = 0\n",
    "    \n",
    "    avg_loss += loss\n",
    "\n",
    "plt.figure(figsize=(10, 5))\n",
    "plt.plot(avg_losses)\n",
    "plt.xlabel('Iteration')\n",
    "plt.ylabel('Loss')\n",
    "plt.title('Training Loss over Iterations')\n",
    "plt.grid(True)\n",
    "plt.show()\n"
   ]
  },
  {
   "cell_type": "code",
   "execution_count": 24,
   "metadata": {},
   "outputs": [
    {
     "data": {
      "text/plain": [
       "'avin.'"
      ]
     },
     "execution_count": 24,
     "metadata": {},
     "output_type": "execute_result"
    }
   ],
   "source": [
    "# Sampling: We encode the start_token as a vector, and continually sample from the NN till we get an end_token\n",
    "names = []\n",
    "\n",
    "for _ in range(10):\n",
    "    curr_index = 0\n",
    "    result = \"\"\n",
    "\n",
    "    while True:\n",
    "        with torch.no_grad():\n",
    "            start = F.one_hot(torch.tensor(curr_index), num_classes=len(stoi)).float()\n",
    "            logits = start @ params\n",
    "            counts = logits.exp()\n",
    "            p = counts / counts.sum()\n",
    "            \n",
    "            curr_index = torch.multinomial(p, num_samples=1, replacement=True).item()\n",
    "            result += itos[curr_index]\n",
    "\n",
    "            if curr_index == 0:\n",
    "                break\n",
    "\n",
    "    result\n",
    "    names.append(result)\n",
    "\n",
    "for name in names:\n",
    "    print(name)"
   ]
  }
 ],
 "metadata": {
  "kernelspec": {
   "display_name": "venv",
   "language": "python",
   "name": "python3"
  },
  "language_info": {
   "codemirror_mode": {
    "name": "ipython",
    "version": 3
   },
   "file_extension": ".py",
   "mimetype": "text/x-python",
   "name": "python",
   "nbconvert_exporter": "python",
   "pygments_lexer": "ipython3",
   "version": "3.11.10"
  }
 },
 "nbformat": 4,
 "nbformat_minor": 2
}
